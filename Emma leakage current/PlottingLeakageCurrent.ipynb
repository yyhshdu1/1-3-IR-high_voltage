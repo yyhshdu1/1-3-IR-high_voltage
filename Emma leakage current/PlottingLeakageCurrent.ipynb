{
 "cells": [
  {
   "cell_type": "code",
   "execution_count": null,
   "metadata": {},
   "outputs": [],
   "source": [
    "import numpy as np\n",
    "import pandas as pd\n",
    "import matplotlib.pyplot as plt\n",
    "from scipy.fftpack import fft\n",
    "\n",
    "def plot_fft_from_csv(file_name, x_column_name, sample_rate):\n",
    "    \"\"\"\n",
    "    Imports two columns from a CSV file and displays the FFT spectrum of the x column up to the Nyquist frequency.\n",
    "\n",
    "    Parameters:\n",
    "        file_name (str): Path to the CSV file.\n",
    "        x_column_name (str): The name of the x-column in the CSV.\n",
    "        sample_rate (float): Sampling rate of the data in Hz.\n",
    "    \"\"\"\n",
    "    # Import the CSV file using pandas\n",
    "    data = pd.read_csv(file_name)\n",
    "\n",
    "    # Extract the x column\n",
    "    x = data[x_column_name]\n",
    "\n",
    "    # Number of samples\n",
    "    N = len(x)\n",
    "\n",
    "    # Perform FFT\n",
    "    x_fft = fft(x)\n",
    "    \n",
    "    # Compute the frequency bins up to the Nyquist frequency\n",
    "    freqs = np.fft.fftfreq(N, 1/sample_rate)\n",
    "    positive_freqs = freqs[:N//2]  # Positive frequencies up to Nyquist\n",
    "\n",
    "    # Take only the positive part of the FFT (up to the Nyquist frequency)\n",
    "    x_fft_positive = np.abs(x_fft[:N//2])\n",
    "\n",
    "    # Plot the FFT spectrum\n",
    "    plt.figure(figsize=(10, 6))\n",
    "    plt.plot(positive_freqs, x_fft_positive)\n",
    "    plt.title(f\"FFT Spectrum of {x_column_name}\")\n",
    "    plt.xlabel(\"Frequency (Hz)\")\n",
    "    plt.ylabel(\"Amplitude\")\n",
    "    plt.grid(True)\n",
    "    plt.show()\n",
    "\n",
    "# Example usage:\n",
    "# file_name = 'your_data.csv'\n",
    "# plot_fft_from_csv(file_name, 'x_column_name', sample_rate=1000)  # Assuming sample rate of 1000 Hz\n"
   ]
  }
 ],
 "metadata": {
  "kernelspec": {
   "display_name": "base",
   "language": "python",
   "name": "python3"
  },
  "language_info": {
   "name": "python",
   "version": "3.9.12"
  }
 },
 "nbformat": 4,
 "nbformat_minor": 2
}
